{
 "cells": [
  {
   "cell_type": "code",
   "execution_count": 1,
   "metadata": {},
   "outputs": [],
   "source": [
    "import pandas as pd\n",
    "\n",
    "\n",
    "import yfinance as yf\n",
    "from datetime import timedelta"
   ]
  },
  {
   "cell_type": "code",
   "execution_count": 2,
   "metadata": {},
   "outputs": [],
   "source": [
    "date_start = '2018-04-02' # Pick a Monday\n",
    "date_end = pd.to_datetime('today').normalize()"
   ]
  },
  {
   "cell_type": "code",
   "execution_count": 3,
   "metadata": {},
   "outputs": [],
   "source": [
    "invested_dollars = 10000"
   ]
  },
  {
   "cell_type": "code",
   "execution_count": 4,
   "metadata": {},
   "outputs": [],
   "source": [
    "tkr = 'AMD'"
   ]
  },
  {
   "cell_type": "code",
   "execution_count": 5,
   "metadata": {},
   "outputs": [
    {
     "name": "stdout",
     "output_type": "stream",
     "text": [
      "[*********************100%%**********************]  1 of 1 completed\n"
     ]
    }
   ],
   "source": [
    "data = yf.download(tkr,pd.to_datetime(date_start),date_end)\n",
    "data = data.reset_index()"
   ]
  },
  {
   "cell_type": "code",
   "execution_count": 6,
   "metadata": {},
   "outputs": [
    {
     "data": {
      "text/html": [
       "<div>\n",
       "<style scoped>\n",
       "    .dataframe tbody tr th:only-of-type {\n",
       "        vertical-align: middle;\n",
       "    }\n",
       "\n",
       "    .dataframe tbody tr th {\n",
       "        vertical-align: top;\n",
       "    }\n",
       "\n",
       "    .dataframe thead th {\n",
       "        text-align: right;\n",
       "    }\n",
       "</style>\n",
       "<table border=\"1\" class=\"dataframe\">\n",
       "  <thead>\n",
       "    <tr style=\"text-align: right;\">\n",
       "      <th></th>\n",
       "      <th>Date</th>\n",
       "      <th>Open</th>\n",
       "      <th>High</th>\n",
       "      <th>Low</th>\n",
       "      <th>Close</th>\n",
       "      <th>Adj Close</th>\n",
       "      <th>Volume</th>\n",
       "    </tr>\n",
       "  </thead>\n",
       "  <tbody>\n",
       "    <tr>\n",
       "      <th>940</th>\n",
       "      <td>2021-12-22</td>\n",
       "      <td>142.649994</td>\n",
       "      <td>144.500000</td>\n",
       "      <td>140.270004</td>\n",
       "      <td>143.880005</td>\n",
       "      <td>143.880005</td>\n",
       "      <td>46923700</td>\n",
       "    </tr>\n",
       "    <tr>\n",
       "      <th>571</th>\n",
       "      <td>2020-07-08</td>\n",
       "      <td>53.009998</td>\n",
       "      <td>53.470001</td>\n",
       "      <td>52.070000</td>\n",
       "      <td>53.430000</td>\n",
       "      <td>53.430000</td>\n",
       "      <td>35608300</td>\n",
       "    </tr>\n",
       "    <tr>\n",
       "      <th>1174</th>\n",
       "      <td>2022-11-28</td>\n",
       "      <td>73.809998</td>\n",
       "      <td>75.470001</td>\n",
       "      <td>72.570000</td>\n",
       "      <td>73.190002</td>\n",
       "      <td>73.190002</td>\n",
       "      <td>45383800</td>\n",
       "    </tr>\n",
       "    <tr>\n",
       "      <th>261</th>\n",
       "      <td>2019-04-15</td>\n",
       "      <td>27.799999</td>\n",
       "      <td>27.840000</td>\n",
       "      <td>26.959999</td>\n",
       "      <td>27.330000</td>\n",
       "      <td>27.330000</td>\n",
       "      <td>40812500</td>\n",
       "    </tr>\n",
       "    <tr>\n",
       "      <th>1393</th>\n",
       "      <td>2023-10-12</td>\n",
       "      <td>108.400002</td>\n",
       "      <td>111.309998</td>\n",
       "      <td>107.510002</td>\n",
       "      <td>108.790001</td>\n",
       "      <td>108.790001</td>\n",
       "      <td>60959400</td>\n",
       "    </tr>\n",
       "  </tbody>\n",
       "</table>\n",
       "</div>"
      ],
      "text/plain": [
       "           Date        Open        High         Low       Close   Adj Close  \\\n",
       "940  2021-12-22  142.649994  144.500000  140.270004  143.880005  143.880005   \n",
       "571  2020-07-08   53.009998   53.470001   52.070000   53.430000   53.430000   \n",
       "1174 2022-11-28   73.809998   75.470001   72.570000   73.190002   73.190002   \n",
       "261  2019-04-15   27.799999   27.840000   26.959999   27.330000   27.330000   \n",
       "1393 2023-10-12  108.400002  111.309998  107.510002  108.790001  108.790001   \n",
       "\n",
       "        Volume  \n",
       "940   46923700  \n",
       "571   35608300  \n",
       "1174  45383800  \n",
       "261   40812500  \n",
       "1393  60959400  "
      ]
     },
     "execution_count": 6,
     "metadata": {},
     "output_type": "execute_result"
    }
   ],
   "source": [
    "data.sample(5)"
   ]
  },
  {
   "cell_type": "code",
   "execution_count": 7,
   "metadata": {},
   "outputs": [],
   "source": [
    "data.Date = pd.to_datetime(data.Date)"
   ]
  },
  {
   "cell_type": "code",
   "execution_count": 8,
   "metadata": {},
   "outputs": [
    {
     "data": {
      "text/plain": [
       "'2018-04-02'"
      ]
     },
     "execution_count": 8,
     "metadata": {},
     "output_type": "execute_result"
    }
   ],
   "source": [
    "date_start"
   ]
  },
  {
   "cell_type": "code",
   "execution_count": 9,
   "metadata": {},
   "outputs": [],
   "source": [
    "tdf = pd.DataFrame(pd.date_range(date_start,date_end,freq='W-MON')).rename(columns = {0:'WEEK'})\n",
    "tdf['WEEKDAY'] = tdf.WEEK.apply(lambda x: x.weekday())\n",
    "tdf['DPD'] = invested_dollars/tdf.WEEKDAY.shape[0]"
   ]
  },
  {
   "cell_type": "code",
   "execution_count": 10,
   "metadata": {},
   "outputs": [],
   "source": [
    "tdf2 = pd.merge(tdf,data[['Date','Open']],left_on = 'WEEK',right_on = 'Date',how = 'left')"
   ]
  },
  {
   "cell_type": "code",
   "execution_count": 11,
   "metadata": {},
   "outputs": [],
   "source": [
    "c = (tdf2.Open.isna()).astype(int)"
   ]
  },
  {
   "cell_type": "code",
   "execution_count": 12,
   "metadata": {},
   "outputs": [],
   "source": [
    "tdf2['ADD'] = c\n"
   ]
  },
  {
   "cell_type": "code",
   "execution_count": 13,
   "metadata": {},
   "outputs": [],
   "source": [
    "tdf2['WEEK'] = tdf2.apply(lambda x: x.WEEK + timedelta(days = x.ADD),axis = 1)"
   ]
  },
  {
   "cell_type": "code",
   "execution_count": 14,
   "metadata": {},
   "outputs": [],
   "source": [
    "tdf2['L_Open'] = tdf2.Open"
   ]
  },
  {
   "cell_type": "code",
   "execution_count": 15,
   "metadata": {},
   "outputs": [],
   "source": [
    "del tdf2['Date']\n",
    "del tdf2['Open']"
   ]
  },
  {
   "cell_type": "code",
   "execution_count": 16,
   "metadata": {},
   "outputs": [],
   "source": [
    "tdf3 = pd.merge(tdf2,data[['Date','Open']],left_on = 'WEEK',right_on = 'Date',how = 'left')"
   ]
  },
  {
   "cell_type": "code",
   "execution_count": 17,
   "metadata": {},
   "outputs": [],
   "source": [
    "c2 = (tdf3.L_Open.isna())"
   ]
  },
  {
   "cell_type": "code",
   "execution_count": 18,
   "metadata": {},
   "outputs": [
    {
     "data": {
      "text/html": [
       "<div>\n",
       "<style scoped>\n",
       "    .dataframe tbody tr th:only-of-type {\n",
       "        vertical-align: middle;\n",
       "    }\n",
       "\n",
       "    .dataframe tbody tr th {\n",
       "        vertical-align: top;\n",
       "    }\n",
       "\n",
       "    .dataframe thead th {\n",
       "        text-align: right;\n",
       "    }\n",
       "</style>\n",
       "<table border=\"1\" class=\"dataframe\">\n",
       "  <thead>\n",
       "    <tr style=\"text-align: right;\">\n",
       "      <th></th>\n",
       "      <th>WEEK</th>\n",
       "      <th>WEEKDAY</th>\n",
       "      <th>DPD</th>\n",
       "    </tr>\n",
       "  </thead>\n",
       "  <tbody>\n",
       "    <tr>\n",
       "      <th>0</th>\n",
       "      <td>2018-04-02</td>\n",
       "      <td>0</td>\n",
       "      <td>33.557047</td>\n",
       "    </tr>\n",
       "    <tr>\n",
       "      <th>1</th>\n",
       "      <td>2018-04-09</td>\n",
       "      <td>0</td>\n",
       "      <td>33.557047</td>\n",
       "    </tr>\n",
       "    <tr>\n",
       "      <th>2</th>\n",
       "      <td>2018-04-16</td>\n",
       "      <td>0</td>\n",
       "      <td>33.557047</td>\n",
       "    </tr>\n",
       "    <tr>\n",
       "      <th>3</th>\n",
       "      <td>2018-04-23</td>\n",
       "      <td>0</td>\n",
       "      <td>33.557047</td>\n",
       "    </tr>\n",
       "    <tr>\n",
       "      <th>4</th>\n",
       "      <td>2018-04-30</td>\n",
       "      <td>0</td>\n",
       "      <td>33.557047</td>\n",
       "    </tr>\n",
       "    <tr>\n",
       "      <th>...</th>\n",
       "      <td>...</td>\n",
       "      <td>...</td>\n",
       "      <td>...</td>\n",
       "    </tr>\n",
       "    <tr>\n",
       "      <th>293</th>\n",
       "      <td>2023-11-13</td>\n",
       "      <td>0</td>\n",
       "      <td>33.557047</td>\n",
       "    </tr>\n",
       "    <tr>\n",
       "      <th>294</th>\n",
       "      <td>2023-11-20</td>\n",
       "      <td>0</td>\n",
       "      <td>33.557047</td>\n",
       "    </tr>\n",
       "    <tr>\n",
       "      <th>295</th>\n",
       "      <td>2023-11-27</td>\n",
       "      <td>0</td>\n",
       "      <td>33.557047</td>\n",
       "    </tr>\n",
       "    <tr>\n",
       "      <th>296</th>\n",
       "      <td>2023-12-04</td>\n",
       "      <td>0</td>\n",
       "      <td>33.557047</td>\n",
       "    </tr>\n",
       "    <tr>\n",
       "      <th>297</th>\n",
       "      <td>2023-12-11</td>\n",
       "      <td>0</td>\n",
       "      <td>33.557047</td>\n",
       "    </tr>\n",
       "  </tbody>\n",
       "</table>\n",
       "<p>298 rows × 3 columns</p>\n",
       "</div>"
      ],
      "text/plain": [
       "          WEEK  WEEKDAY        DPD\n",
       "0   2018-04-02        0  33.557047\n",
       "1   2018-04-09        0  33.557047\n",
       "2   2018-04-16        0  33.557047\n",
       "3   2018-04-23        0  33.557047\n",
       "4   2018-04-30        0  33.557047\n",
       "..         ...      ...        ...\n",
       "293 2023-11-13        0  33.557047\n",
       "294 2023-11-20        0  33.557047\n",
       "295 2023-11-27        0  33.557047\n",
       "296 2023-12-04        0  33.557047\n",
       "297 2023-12-11        0  33.557047\n",
       "\n",
       "[298 rows x 3 columns]"
      ]
     },
     "execution_count": 18,
     "metadata": {},
     "output_type": "execute_result"
    }
   ],
   "source": [
    "tdf"
   ]
  },
  {
   "cell_type": "code",
   "execution_count": 19,
   "metadata": {},
   "outputs": [],
   "source": [
    "tdf3.loc[c2,'L_Open'] = tdf3['Open']"
   ]
  },
  {
   "cell_type": "code",
   "execution_count": 20,
   "metadata": {},
   "outputs": [
    {
     "data": {
      "text/html": [
       "<div>\n",
       "<style scoped>\n",
       "    .dataframe tbody tr th:only-of-type {\n",
       "        vertical-align: middle;\n",
       "    }\n",
       "\n",
       "    .dataframe tbody tr th {\n",
       "        vertical-align: top;\n",
       "    }\n",
       "\n",
       "    .dataframe thead th {\n",
       "        text-align: right;\n",
       "    }\n",
       "</style>\n",
       "<table border=\"1\" class=\"dataframe\">\n",
       "  <thead>\n",
       "    <tr style=\"text-align: right;\">\n",
       "      <th></th>\n",
       "      <th>WEEK</th>\n",
       "      <th>WEEKDAY</th>\n",
       "      <th>DPD</th>\n",
       "      <th>ADD</th>\n",
       "      <th>L_Open</th>\n",
       "      <th>Date</th>\n",
       "      <th>Open</th>\n",
       "    </tr>\n",
       "  </thead>\n",
       "  <tbody>\n",
       "    <tr>\n",
       "      <th>0</th>\n",
       "      <td>2018-04-02</td>\n",
       "      <td>0</td>\n",
       "      <td>33.557047</td>\n",
       "      <td>0</td>\n",
       "      <td>9.990000</td>\n",
       "      <td>2018-04-02</td>\n",
       "      <td>9.990000</td>\n",
       "    </tr>\n",
       "    <tr>\n",
       "      <th>1</th>\n",
       "      <td>2018-04-09</td>\n",
       "      <td>0</td>\n",
       "      <td>33.557047</td>\n",
       "      <td>0</td>\n",
       "      <td>9.750000</td>\n",
       "      <td>2018-04-09</td>\n",
       "      <td>9.750000</td>\n",
       "    </tr>\n",
       "    <tr>\n",
       "      <th>2</th>\n",
       "      <td>2018-04-16</td>\n",
       "      <td>0</td>\n",
       "      <td>33.557047</td>\n",
       "      <td>0</td>\n",
       "      <td>10.000000</td>\n",
       "      <td>2018-04-16</td>\n",
       "      <td>10.000000</td>\n",
       "    </tr>\n",
       "    <tr>\n",
       "      <th>3</th>\n",
       "      <td>2018-04-23</td>\n",
       "      <td>0</td>\n",
       "      <td>33.557047</td>\n",
       "      <td>0</td>\n",
       "      <td>10.090000</td>\n",
       "      <td>2018-04-23</td>\n",
       "      <td>10.090000</td>\n",
       "    </tr>\n",
       "    <tr>\n",
       "      <th>4</th>\n",
       "      <td>2018-04-30</td>\n",
       "      <td>0</td>\n",
       "      <td>33.557047</td>\n",
       "      <td>0</td>\n",
       "      <td>11.060000</td>\n",
       "      <td>2018-04-30</td>\n",
       "      <td>11.060000</td>\n",
       "    </tr>\n",
       "    <tr>\n",
       "      <th>...</th>\n",
       "      <td>...</td>\n",
       "      <td>...</td>\n",
       "      <td>...</td>\n",
       "      <td>...</td>\n",
       "      <td>...</td>\n",
       "      <td>...</td>\n",
       "      <td>...</td>\n",
       "    </tr>\n",
       "    <tr>\n",
       "      <th>293</th>\n",
       "      <td>2023-11-13</td>\n",
       "      <td>0</td>\n",
       "      <td>33.557047</td>\n",
       "      <td>0</td>\n",
       "      <td>118.339996</td>\n",
       "      <td>2023-11-13</td>\n",
       "      <td>118.339996</td>\n",
       "    </tr>\n",
       "    <tr>\n",
       "      <th>294</th>\n",
       "      <td>2023-11-20</td>\n",
       "      <td>0</td>\n",
       "      <td>33.557047</td>\n",
       "      <td>0</td>\n",
       "      <td>120.699997</td>\n",
       "      <td>2023-11-20</td>\n",
       "      <td>120.699997</td>\n",
       "    </tr>\n",
       "    <tr>\n",
       "      <th>295</th>\n",
       "      <td>2023-11-27</td>\n",
       "      <td>0</td>\n",
       "      <td>33.557047</td>\n",
       "      <td>0</td>\n",
       "      <td>122.070000</td>\n",
       "      <td>2023-11-27</td>\n",
       "      <td>122.070000</td>\n",
       "    </tr>\n",
       "    <tr>\n",
       "      <th>296</th>\n",
       "      <td>2023-12-04</td>\n",
       "      <td>0</td>\n",
       "      <td>33.557047</td>\n",
       "      <td>0</td>\n",
       "      <td>119.750000</td>\n",
       "      <td>2023-12-04</td>\n",
       "      <td>119.750000</td>\n",
       "    </tr>\n",
       "    <tr>\n",
       "      <th>297</th>\n",
       "      <td>2023-12-11</td>\n",
       "      <td>0</td>\n",
       "      <td>33.557047</td>\n",
       "      <td>0</td>\n",
       "      <td>130.559998</td>\n",
       "      <td>2023-12-11</td>\n",
       "      <td>130.559998</td>\n",
       "    </tr>\n",
       "  </tbody>\n",
       "</table>\n",
       "<p>298 rows × 7 columns</p>\n",
       "</div>"
      ],
      "text/plain": [
       "          WEEK  WEEKDAY        DPD  ADD      L_Open       Date        Open\n",
       "0   2018-04-02        0  33.557047    0    9.990000 2018-04-02    9.990000\n",
       "1   2018-04-09        0  33.557047    0    9.750000 2018-04-09    9.750000\n",
       "2   2018-04-16        0  33.557047    0   10.000000 2018-04-16   10.000000\n",
       "3   2018-04-23        0  33.557047    0   10.090000 2018-04-23   10.090000\n",
       "4   2018-04-30        0  33.557047    0   11.060000 2018-04-30   11.060000\n",
       "..         ...      ...        ...  ...         ...        ...         ...\n",
       "293 2023-11-13        0  33.557047    0  118.339996 2023-11-13  118.339996\n",
       "294 2023-11-20        0  33.557047    0  120.699997 2023-11-20  120.699997\n",
       "295 2023-11-27        0  33.557047    0  122.070000 2023-11-27  122.070000\n",
       "296 2023-12-04        0  33.557047    0  119.750000 2023-12-04  119.750000\n",
       "297 2023-12-11        0  33.557047    0  130.559998 2023-12-11  130.559998\n",
       "\n",
       "[298 rows x 7 columns]"
      ]
     },
     "execution_count": 20,
     "metadata": {},
     "output_type": "execute_result"
    }
   ],
   "source": [
    "tdf3"
   ]
  },
  {
   "cell_type": "code",
   "execution_count": 21,
   "metadata": {},
   "outputs": [
    {
     "data": {
      "text/plain": [
       "0.0"
      ]
     },
     "execution_count": 21,
     "metadata": {},
     "output_type": "execute_result"
    }
   ],
   "source": [
    "tdf3.L_Open.isna().mean()"
   ]
  },
  {
   "cell_type": "code",
   "execution_count": 22,
   "metadata": {},
   "outputs": [
    {
     "data": {
      "text/plain": [
       "0.09395973154362416"
      ]
     },
     "execution_count": 22,
     "metadata": {},
     "output_type": "execute_result"
    }
   ],
   "source": [
    "tdf2.L_Open.isna().mean()"
   ]
  },
  {
   "cell_type": "code",
   "execution_count": 23,
   "metadata": {},
   "outputs": [],
   "source": [
    "tdf3['SHARES'] = tdf3['DPD']/tdf3['L_Open']"
   ]
  },
  {
   "cell_type": "code",
   "execution_count": 25,
   "metadata": {},
   "outputs": [
    {
     "data": {
      "text/plain": [
       "29266.48601148125"
      ]
     },
     "execution_count": 25,
     "metadata": {},
     "output_type": "execute_result"
    }
   ],
   "source": [
    "tdf3.SHARES.sum()*130.55"
   ]
  },
  {
   "cell_type": "code",
   "execution_count": 27,
   "metadata": {},
   "outputs": [
    {
     "data": {
      "text/plain": [
       "130000.0"
      ]
     },
     "execution_count": 27,
     "metadata": {},
     "output_type": "execute_result"
    }
   ],
   "source": [
    "10000/10*130"
   ]
  },
  {
   "cell_type": "code",
   "execution_count": null,
   "metadata": {},
   "outputs": [],
   "source": [
    "29266 vs 130000"
   ]
  }
 ],
 "metadata": {
  "kernelspec": {
   "display_name": "python374_venv",
   "language": "python",
   "name": "python3"
  },
  "language_info": {
   "codemirror_mode": {
    "name": "ipython",
    "version": 3
   },
   "file_extension": ".py",
   "mimetype": "text/x-python",
   "name": "python",
   "nbconvert_exporter": "python",
   "pygments_lexer": "ipython3",
   "version": "3.7.4"
  },
  "orig_nbformat": 4
 },
 "nbformat": 4,
 "nbformat_minor": 2
}
